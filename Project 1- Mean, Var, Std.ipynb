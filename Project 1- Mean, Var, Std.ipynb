{
 "cells": [
  {
   "cell_type": "code",
   "execution_count": 9,
   "metadata": {},
   "outputs": [
    {
     "name": "stdout",
     "output_type": "stream",
     "text": [
      "mean: [[3.0, 4.0, 5.0], [1.0, 4.0, 7.0], 4.0]\n",
      "variance: [[6.0, 6.0, 6.0], [0.6666666666666666, 0.6666666666666666, 0.6666666666666666], 6.666666666666667]\n",
      "standard deviation: [[2.449489742783178, 2.449489742783178, 2.449489742783178], [0.816496580927726, 0.816496580927726, 0.816496580927726], 2.581988897471611]\n",
      "max: [[6, 7, 8], [2, 5, 8], 8]\n",
      "min: [[0, 1, 2], [0, 3, 6], 0]\n",
      "sum: [[9, 12, 15], [3, 12, 21], 36]\n"
     ]
    }
   ],
   "source": [
    "import numpy as np\n",
    "\n",
    "# === Input Validation ===\n",
    "def calculate(numbers):\n",
    "    # Check if the list has exactly 9 numbers\n",
    "    if len(numbers) != 9:\n",
    "        raise ValueError(\"List must contain nine numbers.\")\n",
    "\n",
    "    # === Reshaping the Input ===\n",
    "    # Convert the list to a 3x3 numpy array\n",
    "    arr = np.array(numbers).reshape(3, 3)\n",
    "\n",
    "    # === Calculations ===\n",
    "    result = {\n",
    "        # Calculate mean across columns, rows, and overall\n",
    "        'mean': [arr.mean(axis=0).tolist(), arr.mean(axis=1).tolist(), arr.mean().item()],\n",
    "        \n",
    "        # Calculate variance across columns, rows, and overall\n",
    "        'variance': [arr.var(axis=0).tolist(), arr.var(axis=1).tolist(), arr.var().item()],\n",
    "        \n",
    "        # Calculate standard deviation across columns, rows, and overall\n",
    "        'standard deviation': [arr.std(axis=0).tolist(), arr.std(axis=1).tolist(), arr.std().item()],\n",
    "        \n",
    "        # Calculate max values across columns, rows, and overall\n",
    "        'max': [arr.max(axis=0).tolist(), arr.max(axis=1).tolist(), arr.max().item()],\n",
    "        \n",
    "        # Calculate min values across columns, rows, and overall\n",
    "        'min': [arr.min(axis=0).tolist(), arr.min(axis=1).tolist(), arr.min().item()],\n",
    "        \n",
    "        # Calculate sum across columns, rows, and overall\n",
    "        'sum': [arr.sum(axis=0).tolist(), arr.sum(axis=1).tolist(), arr.sum().item()]\n",
    "    }\n",
    "\n",
    "    # === Display Results ===\n",
    "    # Print each statistic in the result dictionary\n",
    "    for key, value in result.items():\n",
    "        print(f\"{key}: {value}\")\n",
    "    \n",
    "    # Return the calculated result\n",
    "    return result\n",
    "\n",
    "# Example function call\n",
    "calculate([0, 1, 2, 3, 4, 5, 6, 7, 8]);\n",
    "\n"
   ]
  },
  {
   "cell_type": "markdown",
   "metadata": {},
   "source": [
    "# Code Explanation\n",
    "\n",
    "## Overview:\n",
    "This script performs basic statistical operations on a list of exactly nine numbers. The list is reshaped into a 3x3 array and several statistics (mean, variance, standard deviation, max, min, sum) are computed across different axes and the entire array.\n",
    "\n",
    "## Data Source:\n",
    "- **Input Dataset:** A list containing 9 integers, which is reshaped into a 3x3 matrix.\n",
    "    - Example: `[0, 1, 2, 3, 4, 5, 6, 7, 8]`\n",
    "\n",
    "## Objective:\n",
    "The goal is to calculate the following statistics for the reshaped 3x3 matrix:\n",
    "- **Mean**\n",
    "- **Variance**\n",
    "- **Standard Deviation**\n",
    "- **Max**\n",
    "- **Min**\n",
    "- **Sum**\n",
    "\n",
    "These calculations are performed along the columns, rows, and for the entire matrix.\n",
    "\n",
    "## Methodology:\n",
    "1. **Input Validation:** Ensure that the input list contains exactly 9 numbers.\n",
    "2. **Reshaping the Input:** Convert the list into a 3x3 numpy array.\n",
    "3. **Perform Calculations:**\n",
    "   - Compute the **mean**, **variance**, **standard deviation**, **max**, **min**, and **sum** along columns, rows, and for the entire array.\n",
    "4. **Display Results:** Output the computed statistics for each category (mean, variance, etc.).\n",
    "\n",
    "## Output:\n",
    "- **Printed Output:** Displays the calculated statistics for each category.\n",
    "    - Example output:\n",
    "        ```\n",
    "        mean: [[3.0, 4.0, 5.0], [1.0, 4.0, 7.0], 4.0]\n",
    "        variance: [[6.0, 6.0, 6.0], [0.6666666666666666, 0.6666666666666666, 0.6666666666666666], 6.666666666666667]\n",
    "        standard deviation: [[2.449489742783178, 2.449489742783178, 2.449489742783178], [0.816496580927726, 0.816496580927726, 0.816496580927726], 2.581988897471611]\n",
    "        max: [[6, 7, 8], [2, 5, 8], 8]\n",
    "        min: [[0, 1, 2], [0, 3, 6], 0]\n",
    "        sum: [[9, 12, 15], [3, 12, 21], 36]\n",
    "        ```\n",
    "\n",
    "The function returns the dictionary with these results for further analysis or use.\n"
   ]
  }
 ],
 "metadata": {
  "kernelspec": {
   "display_name": "Python 3",
   "language": "python",
   "name": "python3"
  },
  "language_info": {
   "codemirror_mode": {
    "name": "ipython",
    "version": 3
   },
   "file_extension": ".py",
   "mimetype": "text/x-python",
   "name": "python",
   "nbconvert_exporter": "python",
   "pygments_lexer": "ipython3",
   "version": "3.12.10"
  }
 },
 "nbformat": 4,
 "nbformat_minor": 2
}
